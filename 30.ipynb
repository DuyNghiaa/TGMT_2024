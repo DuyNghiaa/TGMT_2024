{
 "cells": [
  {
   "cell_type": "code",
   "execution_count": null,
   "metadata": {
    "id": "xQY0UwhzDcR2"
   },
   "outputs": [],
   "source": [
    "import cv2\n",
    "import numpy as np\n",
    "import os\n",
    "from google.colab.patches import cv2_imshow\n",
    "import dlib #   !pip install dlib\n",
    "from imutils import face_utils"
   ]
  },
  {
   "cell_type": "code",
   "execution_count": null,
   "metadata": {
    "id": "YXvy0JcCB4P-"
   },
   "outputs": [],
   "source": [
    "# Kết nối đến Google Drive\n",
    "from google.colab import drive\n",
    "drive.mount('/content/drive')"
   ]
  },
  {
   "cell_type": "code",
   "execution_count": null,
   "metadata": {
    "id": "oJFjUHF4DGCq"
   },
   "outputs": [],
   "source": [
    "path = '/content/drive/MyDrive/test_opencv'\n",
    "# Hiển thị tất cả thư mục hoặc file\n",
    "os.listdir(path)"
   ]
  },
  {
   "cell_type": "code",
   "execution_count": null,
   "metadata": {
    "id": "kKcWxY7iDwig"
   },
   "outputs": [],
   "source": [
    "# Hiển thị một ảnh\n",
    "img = cv2.imread(path + \"/face1.png\")\n",
    "cv2_imshow(img)"
   ]
  },
  {
   "cell_type": "code",
   "execution_count": null,
   "metadata": {
    "id": "Tgm-_jUHET9E"
   },
   "outputs": [],
   "source": [
    "face_landmarks_model_path = \"/content/drive/MyDrive/test_opencv/Models/shape_predictor_68_face_landmarks.dat\"\n",
    "face_recognition_model_path = \"/content/drive/MyDrive/test_opencv/Models/dlib_face_recognition_resnet_model_v1.dat\"\n",
    "img_path = \"/content/drive/MyDrive/test_cv/face2.png\"\n",
    "\n",
    "# Tạo bộ nhận diện khuôn mặt\n",
    "face_detector = dlib.get_frontal_face_detector()\n",
    "\n",
    "# ĐỌc hình ảnh và phát hiện khuôn mặt\n",
    "img = cv2.imread(img_path)\n",
    "\n",
    "# Nhận diện các khuôn mặt bên trong ảnh\n",
    "faces = face_detector(img)\n",
    "\n",
    "# Vòng lặp qua từng khuôm mặt\n",
    "for face in faces:\n",
    "    point_a = face.left(), face.top()\n",
    "    point_b = face.right(), face.bottom()\n",
    "\n",
    "    # Phát hiện ra các điểm đặc trưng trên khuôn mặt\n",
    "    shape_predictor = dlib.shape_predictor(face_landmarks_model_path)\n",
    "    face_shape = shape_predictor(img, face)\n",
    "    face_shape_array = face_utils.shape_to_np(face_shape)\n",
    "\n",
    "    # Tính toán đặc trưng của khuôn mặt\n",
    "    shape_descriptor = dlib.face_recognition_model_v1(face_recognition_model_path)\n",
    "    face_descriptors = shape_descriptor.compute_face_descriptor(img, face_shape)\n",
    "    # print(face_descriptors)\n",
    "\n",
    "    # Vẽ hình chữ nhật và các điểm đặc trưng lên hình ảnh\n",
    "    cv2.rectangle(img, point_a, point_b, (0,255,0))\n",
    "    for point in face_shape_array:\n",
    "        cv2.circle(img, tuple(point), 3, (0, 255, 0), -1)\n",
    "\n",
    "cv2_imshow(img)"
   ]
  },
  {
   "cell_type": "code",
   "execution_count": null,
   "metadata": {
    "id": "xhMO-6YaXoLL"
   },
   "outputs": [],
   "source": [
    "#"
   ]
  }
 ],
 "metadata": {
  "accelerator": "GPU",
  "colab": {
   "gpuType": "T4",
   "private_outputs": true,
   "provenance": []
  },
  "kernelspec": {
   "display_name": "Python 3 (ipykernel)",
   "language": "python",
   "name": "python3"
  },
  "language_info": {
   "codemirror_mode": {
    "name": "ipython",
    "version": 3
   },
   "file_extension": ".py",
   "mimetype": "text/x-python",
   "name": "python",
   "nbconvert_exporter": "python",
   "pygments_lexer": "ipython3",
   "version": "3.12.4"
  }
 },
 "nbformat": 4,
 "nbformat_minor": 4
}
