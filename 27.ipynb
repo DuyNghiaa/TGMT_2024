{
 "cells": [
  {
   "cell_type": "code",
   "execution_count": 1,
   "id": "c981adc0-d940-42d3-825e-2181414ac097",
   "metadata": {
    "tags": []
   },
   "outputs": [],
   "source": [
    "import cv2\n",
    "import numpy as np"
   ]
  },
  {
   "cell_type": "code",
   "execution_count": 2,
   "id": "0899225b-e247-4a84-b7f2-53af8a99c4e1",
   "metadata": {
    "tags": []
   },
   "outputs": [
    {
     "ename": "error",
     "evalue": "OpenCV(4.10.0) D:\\a\\opencv-python\\opencv-python\\opencv\\modules\\highgui\\src\\window.cpp:973: error: (-215:Assertion failed) size.width>0 && size.height>0 in function 'cv::imshow'\n",
     "output_type": "error",
     "traceback": [
      "\u001b[1;31m---------------------------------------------------------------------------\u001b[0m",
      "\u001b[1;31merror\u001b[0m                                     Traceback (most recent call last)",
      "Cell \u001b[1;32mIn[2], line 5\u001b[0m\n\u001b[0;32m      2\u001b[0m img \u001b[38;5;241m=\u001b[39m cv2\u001b[38;5;241m.\u001b[39mimread(\u001b[38;5;124m'\u001b[39m\u001b[38;5;124m./img/face1.png\u001b[39m\u001b[38;5;124m'\u001b[39m)\n\u001b[0;32m      4\u001b[0m \u001b[38;5;66;03m# Hiển thị ảnh gốc\u001b[39;00m\n\u001b[1;32m----> 5\u001b[0m cv2\u001b[38;5;241m.\u001b[39mimshow(\u001b[38;5;124m'\u001b[39m\u001b[38;5;124mẢnh gốc\u001b[39m\u001b[38;5;124m'\u001b[39m, img)\n\u001b[0;32m      6\u001b[0m cv2\u001b[38;5;241m.\u001b[39mwaitKey(\u001b[38;5;241m0\u001b[39m)\n\u001b[0;32m      7\u001b[0m cv2\u001b[38;5;241m.\u001b[39mdestroyAllWindows()\n",
      "\u001b[1;31merror\u001b[0m: OpenCV(4.10.0) D:\\a\\opencv-python\\opencv-python\\opencv\\modules\\highgui\\src\\window.cpp:973: error: (-215:Assertion failed) size.width>0 && size.height>0 in function 'cv::imshow'\n"
     ]
    }
   ],
   "source": [
    "# Tải ảnh đầu vào\n",
    "img = cv2.imread('../image/1721030687_TrinhDuyNghia/image_100.jpg')\n",
    "\n",
    "# Hiển thị ảnh gốc\n",
    "cv2.imshow('Ảnh gốc', img)\n",
    "cv2.waitKey(0)\n",
    "cv2.destroyAllWindows()"
   ]
  },
  {
   "cell_type": "code",
   "execution_count": null,
   "id": "6979a08a-a9ab-48bc-a25b-6f5efdf945cf",
   "metadata": {
    "tags": []
   },
   "outputs": [],
   "source": [
    "# Tải mô hình đã được huấn luyện từ trước\n",
    "net = cv2.dnn.readNetFromCaffe(\n",
    "    '../test_open_cv/Models/deploy.prototxt.txt',\n",
    "    '../test_open_cv/Models/res10_300x300_ssd_iter_140000_fp16.caffemodel'\n",
    ")\n",
    "\n",
    "# Chuẩn bị dữ liệu đầu vào\n",
    "# img: Đây là ảnh đầu vào mà bạn muốn nhận dạng khuôn mặt. Trong trường hợp của bạn, bạn đã đọc ảnh từ tệp \"face.png\".\n",
    "# 1.0: Đây là tỷ lệ co giãn cho ảnh. Trong trường hợp này, ảnh sẽ không bị co giãn hoặc mở rộng, và giữ nguyên kích thước ban đầu.\n",
    "# (300, 300): Đây là kích thước mà mô hình yêu cầu cho ảnh đầu vào. Mô hình mà bạn đang sử dụng mong muốn ảnh có kích thước 300x300 pixel. Do đó, bạn co giãn hoặc cắt ảnh đầu vào thành kích thước này.\n",
    "# (104, 177, 123): Đây là giá trị trung bình màu sắc được trừ đi từ mỗi pixel của ảnh. Điều này thường được sử dụng để chuẩn hóa dữ liệu đầu vào. Trong trường hợp này, các giá trị này thường được lấy từ dữ liệu huấn luyện của mô hình.\n",
    "# swapRB=False: Đây là một cờ để xác định xem có cần hoán đổi các kênh màu đỏ và xanh (Red-Blue) trong ảnh hay không. Trong trường hợp này, bạn đã đặt nó thành False, tức là không hoán đổi kênh mà\n",
    "blob = cv2.dnn.blobFromImage(img, 1.0, (300, 300), (104, 177, 123), swapRB=False)\n",
    "\n",
    "# Đặt dữ liệu đầu vào cho mạng\n",
    "net.setInput(blob)\n",
    "\n",
    "# Chạy mạng để phát hiện khuôn mặt\n",
    "faces = net.forward()\n",
    "\n",
    "# Lấy kích thước của ảnh đầu vào\n",
    "h = img.shape[0]\n",
    "w = img.shape[1]\n",
    "\n",
    "# In thông tin\n",
    "print(faces.shape)\n",
    "print(faces[0, 0, 0, ])\n",
    "\n",
    "# Duyệt từng khuôn mặt đã được phát hiện\n",
    "for i in range(0, faces.shape[2]):\n",
    "    confidence = faces[0,0,i,2]\n",
    "    # Kiểm tra nếu mặt có độ tin cậy là 0.5\n",
    "    if confidence>0.5:\n",
    "        # Trích xuất tọa độ\n",
    "        print(faces[0, 0, i, 3:7])\n",
    "        startx = int(faces[0, 0, i, 3]*w)\n",
    "        starty = int(faces[0, 0, i, 4]*h)\n",
    "        endx = int(faces[0, 0, i, 5]*w)\n",
    "        endy = int(faces[0, 0, i, 6]*h)\n",
    "        print(startx, starty, endx, endy)\n",
    "        \n",
    "        # Vẽ hình chữ nhật xung quanh khuôn mặt đã phát hiện\n",
    "        cv2.rectangle(img, (startx, starty), (endx, endy), (0, 255, 0),)\n",
    "        \n",
    "        # Hiển thị độ tin cậy\n",
    "        text = 'Face: {:.2f}%'.format(confidence*100);\n",
    "        cv2.putText(img, text, (startx, starty-10), cv2.FONT_HERSHEY_PLAIN, 1, (255,255,255),)\n",
    "\n",
    "# Hiển thị ảnh gốc\n",
    "cv2.imshow('Kết quả', img)\n",
    "cv2.waitKey(0)\n",
    "cv2.destroyAllWindows()"
   ]
  },
  {
   "cell_type": "code",
   "execution_count": null,
   "id": "0a04b503-19e4-4da3-bb56-a3dbf2551260",
   "metadata": {},
   "outputs": [],
   "source": []
  }
 ],
 "metadata": {
  "kernelspec": {
   "display_name": "Python 3 (ipykernel)",
   "language": "python",
   "name": "python3"
  },
  "language_info": {
   "codemirror_mode": {
    "name": "ipython",
    "version": 3
   },
   "file_extension": ".py",
   "mimetype": "text/x-python",
   "name": "python",
   "nbconvert_exporter": "python",
   "pygments_lexer": "ipython3",
   "version": "3.12.4"
  }
 },
 "nbformat": 4,
 "nbformat_minor": 5
}
