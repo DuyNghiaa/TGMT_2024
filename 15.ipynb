{
 "cells": [
  {
   "cell_type": "code",
   "execution_count": 1,
   "id": "89a5b66d-9d1f-4c7e-90eb-3490cd27ba38",
   "metadata": {
    "editable": true,
    "slideshow": {
     "slide_type": ""
    },
    "tags": []
   },
   "outputs": [
    {
     "name": "stdout",
     "output_type": "stream",
     "text": [
      "Defaulting to user installation because normal site-packages is not writeable\n",
      "Requirement already satisfied: scipy in f:\\programdata\\anaconda3\\lib\\site-packages (1.13.1)\n",
      "Requirement already satisfied: numpy<2.3,>=1.22.4 in f:\\programdata\\anaconda3\\lib\\site-packages (from scipy) (1.26.4)\n",
      "Kết quả là:  [[-4.  10.5]\n",
      " [ 4.  -7.5]]\n"
     ]
    }
   ],
   "source": [
    "# Giải hệ phương trình tuyến tính\n",
    "!pip install scipy\n",
    "from scipy import linalg\n",
    "import numpy as np\n",
    "\n",
    "#Định nghĩa hệ phương trình tuyến tính\n",
    "A = np.array([[6, 8],[7, 9]])\n",
    "B = np.array([[8, 3],[8,6]])\n",
    "C = np.array([[8, 8],[8,8]])\n",
    "\n",
    "#Giải hệ phương trình tuyến tính\n",
    "x = linalg.solve(A, B, C)\n",
    "print(\"Kết quả là: \", x)"
   ]
  },
  {
   "cell_type": "code",
   "execution_count": 2,
   "id": "badedefc-23ab-4e10-add9-9051763e2775",
   "metadata": {
    "editable": true,
    "slideshow": {
     "slide_type": ""
    },
    "tags": []
   },
   "outputs": [
    {
     "name": "stdout",
     "output_type": "stream",
     "text": [
      "Tích phân f(x) từ 6 -> 8:  (98.66666666666666, 1.0954200509634877e-12)\n"
     ]
    }
   ],
   "source": [
    "from scipy import integrate #Dùng để tính tích phân của một hàm số\n",
    "\n",
    "def my_function(x):#Định nghĩa f(x) = x^2\n",
    "    return x**2\n",
    "\n",
    "#Tính tích phân của f(x) từ 6 -> 8\n",
    "integral = integrate.quad(my_function, 6, 8);\n",
    "print(\"Tích phân f(x) từ 6 -> 8: \", integral)"
   ]
  },
  {
   "cell_type": "code",
   "execution_count": 3,
   "id": "75831939-49c9-48ec-a3b3-e2bfc27ba125",
   "metadata": {
    "tags": []
   },
   "outputs": [
    {
     "name": "stdout",
     "output_type": "stream",
     "text": [
      "Giá trị riêng là:  [1.60000000e+01+0.j 1.77635684e-15+0.j]\n",
      "Vector riêng là:  [[ 0.70710678 -0.70710678]\n",
      " [ 0.70710678  0.70710678]]\n"
     ]
    }
   ],
   "source": [
    "from scipy import linalg\n",
    "import numpy as np\n",
    "\n",
    "# Tính giá trị riêng và vector riêng của một ma trận:\n",
    "A = np.array([[8, 8],[8,8]])\n",
    "\n",
    "# Tính giá trị riêng và vector riêng của ma trận\n",
    "evals, evecs = linalg.eig(A)\n",
    "\n",
    "print(\"Giá trị riêng là: \", evals)\n",
    "print(\"Vector riêng là: \", evecs)"
   ]
  },
  {
   "cell_type": "code",
   "execution_count": null,
   "id": "5aca158e-46e9-49d6-b1c4-e070f5143f7c",
   "metadata": {},
   "outputs": [],
   "source": []
  }
 ],
 "metadata": {
  "kernelspec": {
   "display_name": "Python 3 (ipykernel)",
   "language": "python",
   "name": "python3"
  },
  "language_info": {
   "codemirror_mode": {
    "name": "ipython",
    "version": 3
   },
   "file_extension": ".py",
   "mimetype": "text/x-python",
   "name": "python",
   "nbconvert_exporter": "python",
   "pygments_lexer": "ipython3",
   "version": "3.12.4"
  }
 },
 "nbformat": 4,
 "nbformat_minor": 5
}
