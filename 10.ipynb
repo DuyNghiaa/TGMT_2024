{
 "cells": [
  {
   "cell_type": "code",
   "execution_count": 1,
   "id": "bb8c09a8-1fba-4165-a24b-5183b8eaf569",
   "metadata": {},
   "outputs": [],
   "source": [
    "from PIL import Image\n",
    "import matplotlib.pyplot as plt"
   ]
  },
  {
   "cell_type": "code",
   "execution_count": 3,
   "id": "d499a465-eef4-4f1a-8bbf-1b01c656b7f4",
   "metadata": {},
   "outputs": [
    {
     "name": "stderr",
     "output_type": "stream",
     "text": [
      "C:\\Users\\user\\AppData\\Local\\Temp\\ipykernel_14444\\3993587751.py:4: MatplotlibDeprecationWarning: Auto-close()ing of figures upon backend switching is deprecated since 3.8 and will be removed two minor releases later.  To suppress this warning, explicitly call plt.close('all') first.\n",
      "  plt.switch_backend('tkagg')\n"
     ]
    },
    {
     "name": "stdout",
     "output_type": "stream",
     "text": [
      "[(195.99193548387098, 31.12096774193546), (222.6048387096774, 61.72580645161287), (88.20967741935485, 60.83870967741933), (162.7258064516129, 31.12096774193546), (176.4758064516129, 99.42741935483869)]\n"
     ]
    }
   ],
   "source": [
    "dir = 'C:/Users/user/Documents/Thị giác máy tính/image/3.jpg'\n",
    "im = Image.open(dir)\n",
    "#Chuyen doi backend\n",
    "plt.switch_backend('tkagg')\n",
    "#Hien thi anh\n",
    "plt.imshow(im)\n",
    "plt.title('Bam vao anh de chon diem')\n",
    "#Su dung ham gitput de chon diem tren anh\n",
    "points = plt.ginput(5)\n",
    "print(points)\n",
    "plt.show()"
   ]
  },
  {
   "cell_type": "code",
   "execution_count": 7,
   "id": "1df6102c-ecf1-479b-b4bb-a2bfc6f7334c",
   "metadata": {},
   "outputs": [],
   "source": [
    "#Ve lai cac diem da chon bang dau x mau xanh\n",
    "plt.close()\n",
    "\n",
    "plt.imshow(im)\n",
    "for point in points:\n",
    "    x, y = point\n",
    "    plt.plot(x, y, \"gx\")\n",
    "plt.show()"
   ]
  },
  {
   "cell_type": "code",
   "execution_count": null,
   "id": "a97dd06e-f863-4bf0-9d9b-7966d9fde05f",
   "metadata": {},
   "outputs": [],
   "source": []
  }
 ],
 "metadata": {
  "kernelspec": {
   "display_name": "Python 3 (ipykernel)",
   "language": "python",
   "name": "python3"
  },
  "language_info": {
   "codemirror_mode": {
    "name": "ipython",
    "version": 3
   },
   "file_extension": ".py",
   "mimetype": "text/x-python",
   "name": "python",
   "nbconvert_exporter": "python",
   "pygments_lexer": "ipython3",
   "version": "3.12.4"
  }
 },
 "nbformat": 4,
 "nbformat_minor": 5
}
