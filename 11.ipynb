{
 "cells": [
  {
   "cell_type": "code",
   "execution_count": 1,
   "id": "0697f2a5-57b4-4311-a438-0d86e37d5869",
   "metadata": {},
   "outputs": [],
   "source": [
    "import numpy as np"
   ]
  },
  {
   "cell_type": "code",
   "execution_count": 3,
   "id": "8a906cb8-447c-47f3-ae56-6d7edec17841",
   "metadata": {},
   "outputs": [
    {
     "name": "stdout",
     "output_type": "stream",
     "text": [
      "[1 2 3 4 5]\n",
      "2\n"
     ]
    }
   ],
   "source": [
    "#creat array\n",
    "a = np.array([1,2,3,4,5])\n",
    "\n",
    "print(a)\n",
    "\n",
    "#Print 1 element\n",
    "print(a[1])"
   ]
  },
  {
   "cell_type": "code",
   "execution_count": 8,
   "id": "b3ccfd92-df1f-4945-aea3-c863e4d2eb40",
   "metadata": {},
   "outputs": [
    {
     "name": "stdout",
     "output_type": "stream",
     "text": [
      "Matrix:  [[1 2 3]\n",
      " [4 5 6]\n",
      " [7 8 9]]\n",
      "Cot 2 phan tu 2:  9\n"
     ]
    }
   ],
   "source": [
    "#Create 2D array\n",
    "matrix = np.array([[1, 2, 3], [4, 5, 6], [7, 8, 9]])\n",
    "print(\"Matrix: \", matrix)\n",
    "print(\"Cot 2 phan tu 2: \",matrix[2,2])"
   ]
  },
  {
   "cell_type": "code",
   "execution_count": 11,
   "id": "2e38f4a0-8c7c-4c8f-8380-487e6d410eab",
   "metadata": {},
   "outputs": [
    {
     "name": "stdout",
     "output_type": "stream",
     "text": [
      "[0. 0. 0. 0. 0. 0.]\n",
      "[1. 1. 1.]\n",
      "[1. 1. 1. 1. 1. 1.]\n",
      "[ 0  1  2  3  4  5  6  7  8  9 10 11 12 13 14 15 16 17 18 19 20 21 22 23\n",
      " 24 25 26 27 28 29 30 31 32 33 34 35 36 37 38 39 40 41 42 43 44 45 46 47\n",
      " 48 49 50 51 52 53 54 55 56 57 58 59 60 61 62 63 64 65 66 67 68 69 70 71\n",
      " 72 73 74 75 76 77 78 79 80 81 82 83 84 85 86 87 88 89 90 91 92 93 94 95\n",
      " 96 97 98 99]\n",
      "[ 0.   2.5  5.   7.5 10. ]\n",
      "[1 1 1 1 1]\n"
     ]
    }
   ],
   "source": [
    "#How to create array!\n",
    "#create array full 0\n",
    "a = np.zeros(6)\n",
    "print(a)\n",
    "\n",
    "#creat array full 1\n",
    "a = np.ones(3)\n",
    "print(a)\n",
    "\n",
    "#create empty array (to call nearest number)\n",
    "a = np.ones(6)\n",
    "print(a)\n",
    "\n",
    "#create range(0,99)\n",
    "a = np.arange(100)\n",
    "print(a)\n",
    "\n",
    "#create elements with equal spacing\n",
    "a = np.linspace(0,10,num=5)\n",
    "print(a)\n",
    "\n",
    "#identify data types\n",
    "a = np.ones(5, dtype=np.int64)\n",
    "print(a)\n"
   ]
  },
  {
   "cell_type": "code",
   "execution_count": 14,
   "id": "81ce8087-9880-4df4-b1fe-6babe1bd7a38",
   "metadata": {},
   "outputs": [
    {
     "name": "stdout",
     "output_type": "stream",
     "text": [
      "[1 2 3 7 6 5]\n",
      "[1 2 3 5 6 7]\n",
      "[7 6 5 3 2 1]\n",
      "[ 7  6  5  3  2  1 10]\n",
      "[ 7  6  3  2  1 10]\n"
     ]
    }
   ],
   "source": [
    "#Add, del, sort array\n",
    "#init array\n",
    "arr = np.array([1, 2, 3, 7, 6, 5])\n",
    "print(arr)\n",
    "#sort \n",
    "arr = np.sort(arr)\n",
    "print(arr)\n",
    "#!sort\n",
    "arr = np.sort(arr)[::-1]\n",
    "print(arr)\n",
    "arr = np.append(arr, 10)\n",
    "print(arr)\n",
    "#del a position in the array\n",
    "arr = np.delete(arr, 2)\n",
    "print(arr)\n"
   ]
  },
  {
   "cell_type": "code",
   "execution_count": 19,
   "id": "f2ef8d02-c20d-4942-94b0-3f3e0ef959be",
   "metadata": {},
   "outputs": [
    {
     "name": "stdout",
     "output_type": "stream",
     "text": [
      "[[3 2 1]\n",
      " [6 5 4]\n",
      " [9 8 7]]\n",
      "[[9 7 8]\n",
      " [6 5 4]\n",
      " [1 2 3]]\n"
     ]
    }
   ],
   "source": [
    "#create 2d array\n",
    "arr = np.array([[1, 2, 3],\n",
    "                [6, 5, 4],\n",
    "                [9, 7, 8]])\n",
    "sort_by_row = -np.sort(-arr, axis =1) #giam dan\n",
    "print(sort_by_row)\n",
    "sort_by_col = -np.sort(-arr, axis =0) #giam dan\n",
    "print(sort_by_col)"
   ]
  },
  {
   "cell_type": "code",
   "execution_count": 20,
   "id": "aae7d147-e1b6-486a-aac6-35751f5c5a0d",
   "metadata": {},
   "outputs": [
    {
     "name": "stdout",
     "output_type": "stream",
     "text": [
      "Số chiều: 2\n",
      "Kích thước: 6\n",
      "Hình dạng: (2, 3)\n"
     ]
    }
   ],
   "source": [
    "arr = np.array([[1, 2, 3], [4, 5, 6]])\n",
    "\n",
    "#Su dung thuoc tinh de lay thong tin ve mang\n",
    "so_chieu = arr.ndim #2chieu\n",
    "kich_thuoc = arr.size \n",
    "hinh_dang = arr.shape #so hang x so cot (2x3) => (2,3)\n",
    "print(\"Số chiều:\", so_chieu)\n",
    "print(\"Kích thước:\", kich_thuoc)\n",
    "print(\"Hình dạng:\", hinh_dang)\n"
   ]
  },
  {
   "cell_type": "code",
   "execution_count": 21,
   "id": "b79cbe54-0378-4ce9-8323-6b338e2e6d0c",
   "metadata": {},
   "outputs": [
    {
     "name": "stdout",
     "output_type": "stream",
     "text": [
      "[1. 2. 3. 4. 5.]\n"
     ]
    }
   ],
   "source": [
    "arr = np.array([1, 2, 3, 4, 5])\n",
    "arr_float = arr.astype(float) # Ep sang kieu  float\n",
    "print(arr_float)"
   ]
  },
  {
   "cell_type": "code",
   "execution_count": 22,
   "id": "10c3cd57-a5ea-4afc-b636-1006bcd6d227",
   "metadata": {},
   "outputs": [
    {
     "name": "stdout",
     "output_type": "stream",
     "text": [
      "[[1 2 3 4]\n",
      " [5 6 8 7]]\n",
      "[[1 2]\n",
      " [3 4]\n",
      " [5 6]\n",
      " [8 7]]\n"
     ]
    }
   ],
   "source": [
    "arr = np.array([1, 2, 3, 4, 5, 6, 8 ,7])\n",
    "reshaped_arr = arr.reshape(2,4) #Chuyen hang thanh 2 ,cot thanh 4\n",
    "print(reshaped_arr)\n",
    "reshaped_arr = arr.reshape(4,2)#Chuyen cot thanh 2 ,hang thanh  4\n",
    "print(reshaped_arr)"
   ]
  },
  {
   "cell_type": "code",
   "execution_count": 23,
   "id": "1f5a5500-7ef6-4f75-bdc4-6bb038c9f275",
   "metadata": {},
   "outputs": [
    {
     "name": "stdout",
     "output_type": "stream",
     "text": [
      "[1 2 3 4 5 6 8 7]\n"
     ]
    }
   ],
   "source": [
    "reshaped_arr = reshaped_arr.flatten() #flatten chuyen thanh mang 1 chieu\n",
    "print(reshaped_arr)"
   ]
  },
  {
   "cell_type": "code",
   "execution_count": 24,
   "id": "de7db6fd-ab7f-4bdb-97f9-6010579ba2cd",
   "metadata": {},
   "outputs": [
    {
     "name": "stdout",
     "output_type": "stream",
     "text": [
      "[4 5 6]\n",
      "[1 2 3 4 5 6]\n",
      "[7 8 9]\n"
     ]
    }
   ],
   "source": [
    "#cat lat\n",
    "arr = np.array([1, 2, 3, 4, 5, 6 ,7 , 8, 9])\n",
    "\n",
    "sub_arr = arr[3:6] #cat het chi lay trong khoang 3-6(4-7)\n",
    "print(sub_arr)\n",
    "\n",
    "sub_arr= arr[:-3] #dem nguoc tu 1(0) ve 9(-1)...\n",
    "print(sub_arr)  #':' truoc la se lay cac phan tu truoc [-3]\n",
    "\n",
    "sub_arr= arr[-3:] #dem nguoc tu 1(0) ve 9(-1)... se lay cac phan tu sau -3(7) ->789\n",
    "#print(sub_arr) # ':' dang sau la lay cac phan tu sau [-3]"
   ]
  },
  {
   "cell_type": "code",
   "execution_count": 25,
   "id": "22ca3e19-128d-42a5-9acb-dcb4cba86442",
   "metadata": {},
   "outputs": [
    {
     "name": "stdout",
     "output_type": "stream",
     "text": [
      "[[1 2 3 4]\n",
      " [8 7 6 5]]\n",
      "[[1 8]\n",
      " [2 7]\n",
      " [3 6]\n",
      " [4 5]]\n"
     ]
    }
   ],
   "source": [
    "#chuyen vi mang bang transpose\n",
    "arr = np.array([[1,2,3,4], [8,7,6,5]])\n",
    "print(arr)\n",
    "transposed =arr.T #transpose bang cach .T va numpy.transpose()\n",
    "print(transposed)"
   ]
  },
  {
   "cell_type": "code",
   "execution_count": 29,
   "id": "70f7abc9-edb6-4914-a914-6a4208255e44",
   "metadata": {},
   "outputs": [
    {
     "name": "stdout",
     "output_type": "stream",
     "text": [
      "[1 2 3 4 8 7 6 5]\n"
     ]
    }
   ],
   "source": [
    "#noi mang bang ham np.concatenate\n",
    "a = np.array([1,2,3,4])\n",
    "b = np.array([8,7,6,5])\n",
    "c = np.concatenate((a, b))\n",
    "print(c)"
   ]
  },
  {
   "cell_type": "code",
   "execution_count": 32,
   "id": "1ea1dd2f-7dbf-4fae-83d5-f6ad19cb37bf",
   "metadata": {},
   "outputs": [
    {
     "name": "stdout",
     "output_type": "stream",
     "text": [
      "Tong cac phan tu trong mang 10\n",
      "trung binh cong cac phan tu trong mang 2.5\n",
      "Min:  1\n",
      "Max:  4\n",
      "do lech chuan:  1.118033988749895\n",
      "tong tich chap cua hai mang:  60\n",
      "Phuong sai cua mang: 1.25\n"
     ]
    }
   ],
   "source": [
    "arr = np.array([1,2,3,4])\n",
    "#tinh tong cac phan tu trong mang bang sum\n",
    "arr_sum = np.sum(arr)\n",
    "print(\"Tong cac phan tu trong mang\", arr_sum)\n",
    "#tinh trung binh cong cac phan tu trong mang bang mean\n",
    "arr_mean = np.mean(arr)\n",
    "print(\"trung binh cong cac phan tu trong mang\", arr_mean)\n",
    "#tinh min max bang min max\n",
    "arr_min = np.min(arr)\n",
    "print(\"Min: \",arr_min)\n",
    "arr_max = np.max(arr)\n",
    "print(\"Max: \",arr_max)\n",
    "#tinh do lech chuan bang ham std (do luong do phan tan of data)\n",
    "arr_std = np.std(arr)\n",
    "print(\"do lech chuan: \",arr_std)\n",
    "#tinh tong tich chap cua hai mang bang ham dot\n",
    "a = np.array([1,2,3,4])\n",
    "b = np.array([8,7,6,5])\n",
    "arr_dot = np.dot(a, b)\n",
    "print(\"tong tich chap cua hai mang: \",arr_dot)\n",
    "#tinh phuong sai cua mang bang ham var (do luong do bien thien of data)\n",
    "arr_var = np.var(arr)\n",
    "print(\"Phuong sai cua mang:\", arr_var)"
   ]
  },
  {
   "cell_type": "code",
   "execution_count": null,
   "id": "deb00522-360f-4c06-af24-45b4145f8621",
   "metadata": {},
   "outputs": [],
   "source": []
  }
 ],
 "metadata": {
  "kernelspec": {
   "display_name": "Python 3 (ipykernel)",
   "language": "python",
   "name": "python3"
  },
  "language_info": {
   "codemirror_mode": {
    "name": "ipython",
    "version": 3
   },
   "file_extension": ".py",
   "mimetype": "text/x-python",
   "name": "python",
   "nbconvert_exporter": "python",
   "pygments_lexer": "ipython3",
   "version": "3.12.4"
  }
 },
 "nbformat": 4,
 "nbformat_minor": 5
}
