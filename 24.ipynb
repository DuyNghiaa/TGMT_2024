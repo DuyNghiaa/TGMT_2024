{
 "cells": [
  {
   "cell_type": "code",
   "execution_count": 1,
   "id": "a0bd887f-a3b1-44f2-9311-6f2bb689f124",
   "metadata": {
    "tags": []
   },
   "outputs": [],
   "source": [
    "import cv2\n",
    "import time"
   ]
  },
  {
   "cell_type": "code",
   "execution_count": 2,
   "id": "34fbd5e4-b263-46e3-9b8d-423be6109bc9",
   "metadata": {
    "tags": []
   },
   "outputs": [],
   "source": [
    "camera = cv2.VideoCapture(0)"
   ]
  },
  {
   "cell_type": "code",
   "execution_count": 3,
   "id": "e57a2512-8e4b-4286-9190-a6fadfe8fef4",
   "metadata": {
    "tags": []
   },
   "outputs": [],
   "source": [
    "cv2.namedWindow('Video Player', cv2.WINDOW_NORMAL)\n",
    "interval = 50\n",
    "count = 0"
   ]
  },
  {
   "cell_type": "code",
   "execution_count": 4,
   "id": "555f41b7-7156-479b-b732-abce15bb3816",
   "metadata": {
    "tags": []
   },
   "outputs": [],
   "source": [
    "font = cv2.FONT_HERSHEY_SIMPLEX\n",
    "font_color = (0, 0, 255)\n",
    "font_scale = 1\n",
    "font_thicknes = 2"
   ]
  },
  {
   "cell_type": "code",
   "execution_count": 5,
   "id": "01d9c6cc-3117-4733-8d93-ef8ead0aa7ee",
   "metadata": {
    "tags": []
   },
   "outputs": [],
   "source": [
    "while True:\n",
    "    start_time = time.time()\n",
    "    ret, frame = camera.read()\n",
    "    if not ret:\n",
    "        break\n",
    "    count = count + 2\n",
    "    if(count%interval==0):\n",
    "        cv2.imwrite(f'../image/1721030687_TrinhDuyNghia/image_{count}.jpg', frame)\n",
    "    end_time = time.time()\n",
    "    fps = 1/(end_time-start_time)\n",
    "    cv2.putText(frame, f'FPS:{fps:.2f}', (100, 100), font, font_scale, font_color , font_thicknes)\n",
    "    cv2.imshow('Video Player', frame)\n",
    "    if(cv2.waitKey(10)==ord('q')):\n",
    "        break\n",
    "\n",
    "camera.release()\n",
    "cv2.destroyAllWindows()"
   ]
  },
  {
   "cell_type": "code",
   "execution_count": null,
   "id": "0becaa6f-db44-4c12-b8e8-2f30cb11341b",
   "metadata": {},
   "outputs": [],
   "source": []
  }
 ],
 "metadata": {
  "kernelspec": {
   "display_name": "Python 3 (ipykernel)",
   "language": "python",
   "name": "python3"
  },
  "language_info": {
   "codemirror_mode": {
    "name": "ipython",
    "version": 3
   },
   "file_extension": ".py",
   "mimetype": "text/x-python",
   "name": "python",
   "nbconvert_exporter": "python",
   "pygments_lexer": "ipython3",
   "version": "3.12.4"
  }
 },
 "nbformat": 4,
 "nbformat_minor": 5
}
